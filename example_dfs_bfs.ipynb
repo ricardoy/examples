{
 "cells": [
  {
   "cell_type": "markdown",
   "metadata": {},
   "source": [
    "### A simple node class"
   ]
  },
  {
   "cell_type": "code",
   "execution_count": 1,
   "metadata": {
    "collapsed": true
   },
   "outputs": [],
   "source": [
    "class Node:\n",
    "    def __init__(self, label):\n",
    "        self.label = label\n",
    "        self.children = []\n",
    "        \n",
    "    def add_child(self, node):\n",
    "        self.children.append(node)\n",
    "        \n",
    "    def get_children(self):\n",
    "        return self.children\n",
    "    \n",
    "    def __str__(self):\n",
    "        return str(self.label)"
   ]
  },
  {
   "cell_type": "markdown",
   "metadata": {},
   "source": [
    "### Defining a tree"
   ]
  },
  {
   "cell_type": "raw",
   "metadata": {},
   "source": [
    "     a\n",
    "   /   \\\n",
    "  b     c\n",
    " / \\   / \\\n",
    "d   e f   g"
   ]
  },
  {
   "cell_type": "code",
   "execution_count": 38,
   "metadata": {
    "collapsed": true
   },
   "outputs": [],
   "source": [
    "root = Node('a')\n",
    "b = Node('b')\n",
    "c = Node('c')\n",
    "d = Node('d')\n",
    "e = Node('e')\n",
    "f = Node('f')\n",
    "g = Node('g')\n",
    "\n",
    "root.add_child(b)\n",
    "root.add_child(c)\n",
    "\n",
    "b.add_child(d)\n",
    "b.add_child(e)\n",
    "\n",
    "c.add_child(f)\n",
    "c.add_child(g)"
   ]
  },
  {
   "cell_type": "markdown",
   "metadata": {},
   "source": [
    "### Generating a LIFO and FIFO queues"
   ]
  },
  {
   "cell_type": "code",
   "execution_count": 39,
   "metadata": {
    "collapsed": false
   },
   "outputs": [],
   "source": [
    "class AbstractQueue:\n",
    "    def __init__(self):\n",
    "        self.queue = []\n",
    "        \n",
    "    def add(self, item):\n",
    "        self.queue.append(item)\n",
    "        \n",
    "    def get_and_remove(self):\n",
    "        pass\n",
    "    \n",
    "    def empty(self):\n",
    "        return len(self.queue) == 0\n",
    "    \n",
    "    def __str__(self):\n",
    "        return str(self.queue)\n",
    "        \n",
    "class Lifo(AbstractQueue):\n",
    "    def get_and_remove(self):        \n",
    "        if len(self.queue) <= 0:\n",
    "            return None\n",
    "        else:\n",
    "            return self.queue.pop(-1)\n",
    "        \n",
    "class Fifo(AbstractQueue):\n",
    "    def get_and_remove(self):        \n",
    "        if len(self.queue) <= 0:\n",
    "            return None\n",
    "        else:\n",
    "            return self.queue.pop(0)"
   ]
  },
  {
   "cell_type": "markdown",
   "metadata": {},
   "source": [
    "### Defining a function that will visit each node once. Notice that the order will be defined only by the queue."
   ]
  },
  {
   "cell_type": "code",
   "execution_count": 50,
   "metadata": {
    "collapsed": true
   },
   "outputs": [],
   "source": [
    "def traverse(tree, queue):\n",
    "    queue.add(tree)\n",
    "    while not queue.empty():\n",
    "        node = queue.get_and_remove()        \n",
    "        print(node)\n",
    "        for child in node.get_children():\n",
    "            queue.add(child)"
   ]
  },
  {
   "cell_type": "markdown",
   "metadata": {},
   "source": [
    "### Using a LIFO, it will be a DFS"
   ]
  },
  {
   "cell_type": "code",
   "execution_count": 51,
   "metadata": {
    "collapsed": false
   },
   "outputs": [
    {
     "name": "stdout",
     "output_type": "stream",
     "text": [
      "a\n",
      "c\n",
      "g\n",
      "f\n",
      "b\n",
      "e\n",
      "d\n"
     ]
    }
   ],
   "source": [
    "traverse(root, Lifo())"
   ]
  },
  {
   "cell_type": "markdown",
   "metadata": {},
   "source": [
    "### FIFO will define a BFS"
   ]
  },
  {
   "cell_type": "code",
   "execution_count": 52,
   "metadata": {
    "collapsed": false
   },
   "outputs": [
    {
     "name": "stdout",
     "output_type": "stream",
     "text": [
      "a\n",
      "b\n",
      "c\n",
      "d\n",
      "e\n",
      "f\n",
      "g\n"
     ]
    }
   ],
   "source": [
    "traverse(root, Fifo())"
   ]
  }
 ],
 "metadata": {
  "kernelspec": {
   "display_name": "Python 3",
   "language": "python",
   "name": "python3"
  },
  "language_info": {
   "codemirror_mode": {
    "name": "ipython",
    "version": 3
   },
   "file_extension": ".py",
   "mimetype": "text/x-python",
   "name": "python",
   "nbconvert_exporter": "python",
   "pygments_lexer": "ipython3",
   "version": "3.6.0"
  }
 },
 "nbformat": 4,
 "nbformat_minor": 2
}
